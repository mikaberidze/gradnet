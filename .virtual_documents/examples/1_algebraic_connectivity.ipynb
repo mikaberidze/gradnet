








from gradnet import GradNet
from gradnet.trainer import fit
import torch
from matplotlib import pyplot as plt
from gradnet.utils import plot_adjacency_heatmap, plot_graph
import tensorboard


N = 50
budget_per_node = 1.0

gn = GradNet(num_nodes=N, budget=budget_per_node*N, rand_init_weights=True)

# define the loss function
def loss_fn(gn):
    A = gn()  # get the adjacency matrix
    L = torch.diag(A.sum(dim=1)) - A  # compute the graph Laplacian
    eigs = torch.linalg.eigvalsh(L)  # compute the eigenvalues
    l2 = eigs[1]  # second smallest eigenvalue (algebraic connectivity)
    # loss is (1-λ₂), so minimizing it maximizes λ₂. 
    return 1-l2  # return loss, and also λ₂ as a metric

lightning_trainer, best_ckpt = fit(gn=gn, loss_fn=loss_fn, num_updates=10000, optim_kwargs={"lr": 0.001}, accelerator="cpu");

fig, (ax0, ax1) = plt.subplots(1, 2, figsize=(10, 4), constrained_layout=True)
plot_adjacency_heatmap(gn, ax=ax0)
plot_graph(gn, ax=ax1)





import numpy as np
import networkx as nx

rows = 30
cols = 30
N = rows * cols

def make_grid_mask(rows, cols):
    mask_nx = nx.grid_2d_graph(rows, cols)  # Build grid graph (nodes are (r, c) tuples)
    nodes = sorted(mask_nx.nodes())  # sort nodes
    return nx.to_numpy_array(mask_nx, nodelist=nodes)

mask = make_grid_mask(rows, cols)

gn_grid = GradNet(num_nodes=N, budget=budget_per_node * N, mask=mask, rand_init_weights=0.1)
lightning_trainer, best_ckpt = fit(gn=gn_grid, loss_fn=loss_fn, num_updates=100, optim_kwargs={"lr": 0.01}, accelerator="cpu");


from gradnet.utils import to_networkx

net = to_networkx(gn_grid)

def draw_grid_graph(net):
    """Draw a grid graph with edges colored by their weights."""
    edge_weights = np.array(list(nx.get_edge_attributes(net, 'weight').values()))
    pos = {r * cols + c: (c, -r) for r in range(rows) for c in range(cols)}

    fig, ax = plt.subplots(figsize=(8, 6))  # Create figure and axis

    # Draw graph on the same axis
    nx.draw_networkx_edges(net, pos=pos, ax=ax, edge_color=edge_weights, edge_cmap=plt.cm.viridis, width=3)
    nx.draw_networkx_nodes(net, pos=pos, ax=ax, nodelist=sorted(net.nodes()), node_color="k", node_size=5)
    ax.set_axis_off()

    # Add colorbar linked to edges
    sm = plt.cm.ScalarMappable(cmap=plt.cm.viridis)
    sm.set_array(edge_weights)
    fig.colorbar(sm, ax=ax, label="conductance (edge weight)")

draw_grid_graph(net)
plt.show()



