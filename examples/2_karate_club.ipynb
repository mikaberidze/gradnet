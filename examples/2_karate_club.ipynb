{
 "cells": [
  {
   "cell_type": "markdown",
   "id": "463f8e19",
   "metadata": {},
   "source": [
    "## Zachary's karate club\n",
    "> **`gradnet` concepts demonstrated below**\n",
    "> - nothing yet\n",
    "### Problem setup\n",
    "Zachary's karate club is ..."
   ]
  },
  {
   "cell_type": "markdown",
   "id": "8fef857b",
   "metadata": {},
   "source": [
    "### GradNet optimization"
   ]
  },
  {
   "cell_type": "code",
   "execution_count": null,
   "id": "5729e4e9",
   "metadata": {},
   "outputs": [
    {
     "name": "stderr",
     "output_type": "stream",
     "text": [
      "GPU available: True (mps), used: False\n",
      "TPU available: False, using: 0 TPU cores\n",
      "HPU available: False, using: 0 HPUs\n"
     ]
    },
    {
     "data": {
      "application/vnd.jupyter.widget-view+json": {
       "model_id": "c4cdd55616a64dec853fb98210996a11",
       "version_major": 2,
       "version_minor": 0
      },
      "text/plain": [
       "Updates:   0%|          | 0/300 [00:00<?, ?it/s]"
      ]
     },
     "metadata": {},
     "output_type": "display_data"
    },
    {
     "name": "stderr",
     "output_type": "stream",
     "text": [
      "\n",
      "  | Name | Type    | Params | Mode \n",
      "-----------------------------------------\n",
      "0 | gn   | GradNet | 1.2 K  | train\n",
      "-----------------------------------------\n",
      "1.2 K     Trainable params\n",
      "0         Non-trainable params\n",
      "1.2 K     Total params\n",
      "0.005     Total estimated model params size (MB)\n",
      "`Trainer.fit` stopped: `max_epochs=300` reached.\n"
     ]
    },
    {
     "data": {
      "text/plain": [
       "<networkx.classes.graph.Graph at 0x327fa7450>"
      ]
     },
     "execution_count": 7,
     "metadata": {},
     "output_type": "execute_result"
    },
    {
     "data": {
      "image/png": "[encoded data removed]",
      "text/plain": [
       "<Figure size 640x480 with 1 Axes>"
      ]
     },
     "metadata": {},
     "output_type": "display_data"
    }
   ],
   "source": [
    "from gradnet import GradNet\n",
    "from gradnet.trainer import fit\n",
    "from gradnet.utils import plot_graph\n",
    "import torch\n",
    "from matplotlib import pyplot as plt\n",
    "import networkx as nx\n",
    "from gradnet.ode import integrate_ode\n",
    "\n",
    "\n",
    "net = nx.karate_club_graph()  # Load Zachary's Karate Club graph\n",
    "adj0 = nx.to_numpy_array(net)  # Get adjacency matrix as a NumPy array\n",
    "mask = (adj0 > 0).astype(float)  # mask every non-existant edge\n",
    "\n",
    "N = len(net)\n",
    "budget = 100  # let's give it a large amount of budget and not force to use it all\n",
    "\n",
    "gn = GradNet(num_nodes=N, adj0=adj0, mask = mask, delta_sign=\"nonpositive\", final_sign=\"free\",\n",
    "            budget=budget, rand_init_weights=False, use_budget_up=False)\n",
    "\n",
    "\n",
    "def do_dt(t, o, A):\n",
    "    L = torch.diag(A.sum(dim=1)) - A\n",
    "    do = - L@o\n",
    "    do[0] = 0\n",
    "    do[-1] = 0\n",
    "    return do\n",
    "\n",
    "def dissonans(adj, o):\n",
    "    o_dif = torch.abs(o.unsqueeze(-1)-o)\n",
    "    return (adj*o_dif).sum()/adj.sum()\n",
    "\n",
    "def loss_fn(gn):\n",
    "    adj = gn()\n",
    "\n",
    "    tt = torch.linspace(0, 15, 150)  # time grid to evaluate the numerical solutions\n",
    "    o0 = torch.zeros(N)  # set the initial opinions to 0\n",
    "    o0[0] = 1  # administrator\n",
    "    o0[-1] = -1  # instructor\n",
    "\n",
    "    tt, oo = integrate_ode(adj, f=do_dt, x0=o0, tt=tt)  # integrate the ODE\n",
    "    o = oo[-1]\n",
    "    \n",
    "    return dissonans(adj, o), {\"used_b\": gn.get_delta_adj().sum().item()}  #compute dissonance\n",
    "\n",
    "\n",
    "fit(gn=gn, loss_fn=loss_fn, num_updates=300, optim_kwargs={\"lr\": 0.1}, accelerator=\"cpu\")\n",
    "\n",
    "# Plot the results\n",
    "col = ['orange' if net.nodes[nd]['club']== 'Mr. Hi' else 'green' for nd in range(N)]\n",
    "\n",
    "plot_graph(gn, node_size=50, draw_kwargs={\"node_color\": col})"
   ]
  },
  {
   "cell_type": "code",
   "execution_count": null,
   "id": "2f7c496a",
   "metadata": {},
   "outputs": [],
   "source": []
  },
  {
   "cell_type": "code",
   "execution_count": 2,
   "id": "916196d8",
   "metadata": {},
   "outputs": [
    {
     "data": {
      "text/plain": [
       "tensor(-58.2456, grad_fn=<SumBackward0>)"
      ]
     },
     "execution_count": 2,
     "metadata": {},
     "output_type": "execute_result"
    }
   ],
   "source": [
    "gn.get_delta_adj().sum()"
   ]
  }
 ],
 "metadata": {
  "kernelspec": {
   "display_name": "torch",
   "language": "python",
   "name": "python3"
  },
  "language_info": {
   "codemirror_mode": {
    "name": "ipython",
    "version": 3
   },
   "file_extension": ".py",
   "mimetype": "text/x-python",
   "name": "python",
   "nbconvert_exporter": "python",
   "pygments_lexer": "ipython3",
   "version": "3.11.8"
  }
 },
 "nbformat": 4,
 "nbformat_minor": 5
}
