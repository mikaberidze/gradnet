{
 "cells": [
  {
   "cell_type": "markdown",
   "id": "616dc2e6",
   "metadata": {},
   "source": [
    "{download}`Download this notebook <2_kuramoto.ipynb>`"
   ]
  },
  {
   "cell_type": "markdown",
   "id": "b7b25f5e",
   "metadata": {
    "vscode": {
     "languageId": "plaintext"
    }
   },
   "source": [
    "## Optimally synchronizable Kuramoto networks\n",
    "\n",
    "> **`gradnet` concepts demonstrated below**\n",
    "> - **ODE integration** via `gradnet.integrate_ode`\n",
    "> - Custom **loss function** for a dynamical system\n",
    "> - Optimizer selection\n",
    "> - Logging using TensorBoard\n",
    "\n",
    "\n",
    "### Problem setup\n",
    "Consider the Kuramoto model for nodes with internal frequencies $\\{\\omega_i\\}_{i=1}^N$ with weighted adjacency matrix $A_{ij}$ obaying the dynamics:\n",
    "$$\n",
    "\\frac{d\\theta_i}{dt} = \\omega_i + \\sum_{j=1}^N A_{ij} \\sin(\\theta_j - \\theta_i)\n",
    "$$\n",
    "\n",
    "Notice, that the adjacency matrix here is weighted: $A_{ij}=0$ if there is no edge between nodes $i$ and $j$, otherwise $A_{ij}$ is the edge-weight of the existing edge.\n",
    "\n",
    "For this model, we seek the optimal network, with the fixed total edge-weight budget which supports the strongest synchronization. \n",
    "\n",
    "Synchronization in Kuramoto model is measured as:\n",
    "$$\n",
    "r(t) = \\left| \\frac{1}{N} \\sum_{j=1}^N e^{i\\theta_j(t)} \\right|\n",
    "$$\n",
    "where $r(t) \\in [0, 1]$ measures the degree of phase synchronization at time $t$. This is implemented in the function `loss_fn`.\n",
    "\n",
    "### Vectorizing the ODE (Optional)\n",
    "We can simplify the right-hand-side of the ODE by applying the trig identity $\\sin(a-b) = \\cos(a)\\sin(b) - \\sin(a)\\cos(b)$, which allows efficient vectorized computation of the interaction term. The resulting vectorized ODE is:\n",
    "$$\n",
    "\\frac{d\\boldsymbol{\\theta}}{dt} = \\boldsymbol{\\omega} + \\left[ \\cos(\\boldsymbol{\\theta}) \\odot (A\\cdot \\sin(\\boldsymbol{\\theta})) - \\sin(\\boldsymbol{\\theta}) \\odot (A\\cdot \\cos(\\boldsymbol{\\theta})) \\right]\n",
    "$$\n",
    "where $\\odot$ denotes the Hadamard (element-wise) product. This is implemented in the function `dθ_dt` in the code\n",
    "\n",
    "Note: vectorization is not required, but it helps accelerate the computations (especially if using a GPU)."
   ]
  },
  {
   "cell_type": "markdown",
   "id": "536794ec",
   "metadata": {},
   "source": [
    "### GradNet optimization"
   ]
  },
  {
   "cell_type": "code",
   "execution_count": null,
   "id": "20e67163",
   "metadata": {},
   "outputs": [
    {
     "name": "stderr",
     "output_type": "stream",
     "text": [
      "GPU available: True (mps), used: False\n",
      "TPU available: False, using: 0 TPU cores\n",
      "HPU available: False, using: 0 HPUs\n",
      "Missing logger folder: lightning_logs/gradnet\n"
     ]
    },
    {
     "data": {
      "application/vnd.jupyter.widget-view+json": {
       "model_id": "9d17a5c0d74d4c4b918a2b03d315334c",
       "version_major": 2,
       "version_minor": 0
      },
      "text/plain": [
       "Updates:   0%|          | 0/1000 [00:00<?, ?it/s]"
      ]
     },
     "metadata": {},
     "output_type": "display_data"
    },
    {
     "name": "stderr",
     "output_type": "stream",
     "text": [
      "\n",
      "  | Name | Type    | Params | Mode \n",
      "-----------------------------------------\n",
      "0 | gn   | GradNet | 1.0 M  | train\n",
      "-----------------------------------------\n",
      "1.0 M     Trainable params\n",
      "0         Non-trainable params\n",
      "1.0 M     Total params\n",
      "4.000     Total estimated model params size (MB)\n"
     ]
    }
   ],
   "source": [
    "from gradnet import GradNet, ode, trainer\n",
    "import numpy as np\n",
    "import torch\n",
    "from gradnet.utils import plot_adjacency_heatmap, plot_graph\n",
    "import matplotlib.pyplot as plt\n",
    "from matplotlib.cm import bwr\n",
    "\n",
    "\n",
    "# set up problem parameters preferably in Torch\n",
    "N = 1000\n",
    "budget_per_node = 2.0\n",
    "ω = np.sort(np.random.random(N))  # uniformly distributed natural frequencies in [0, 1]\n",
    "ω = torch.tensor(ω)  # convert to torch tensor\n",
    "\n",
    "gn = GradNet(num_nodes=N, budget=budget_per_node*N, rand_init_weights=False, \n",
    "             delta_sign=\"nonnegative\", final_sign=\"free\", use_budget_up=True)  # create the GradNet instance\n",
    "\n",
    "def dθ_dt(t, θ, A, ω):\n",
    "    # Kuramoto model: dθ_i/dt = ω_i + Σ A_ij sin(θ_j - θ_i)\n",
    "    sinx = torch.sin(θ)\n",
    "    cosx = torch.cos(θ)\n",
    "    return ω + cosx * (A @ sinx) - sinx * (A @ cosx)\n",
    "\n",
    "def loss_fn(gn):\n",
    "    tt = torch.linspace(0, 5, 150)  # time grid to evaluate the numerical solutions\n",
    "    θ0 = torch.zeros(N)  # set the initial phases to 0 (this choice accelerates traning)\n",
    "\n",
    "    f_params = {\"ω\": ω}  # contains every parameter of the dθ_dt beyond t, θ, and A. \n",
    "    tt, θθ = ode.integrate_ode(gn, f=dθ_dt, x0=θ0, tt=tt, f_kwargs=f_params)  # integrate the ODE\n",
    "\n",
    "    rr = torch.abs(torch.mean(torch.exp(1j * θθ), dim=1)) # compute the synchronization time series\n",
    "    r_mean = torch.mean(rr)  # average it over time\n",
    "\n",
    "    return 1 - r_mean, {'r':r_mean}  # loss function is minimized, so in order to maximize synch, \n",
    "\n",
    "\n",
    "trainer.fit(gn=gn, \n",
    "            loss_fn=loss_fn, \n",
    "            num_updates=1000, \n",
    "            optim_cls=torch.optim.Adam, optim_kwargs={\"lr\": 1, \"betas\": (0.9, 0.999)}, \n",
    "            accelerator=\"cpu\",\n",
    "            logger=True);\n",
    "\n",
    "loss, measures = loss_fn(gn)\n",
    "print(f\"optimal synchrony: {measures['r']}\")\n",
    "\n",
    "fig, (ax0, ax1) = plt.subplots(1, 2, figsize=(10, 4), constrained_layout=True)\n",
    "plot_adjacency_heatmap(gn, ax=ax0)\n",
    "plot_graph(gn, ax=ax1, draw_kwargs={'node_color': ω, 'cmap': bwr}, colorbar_label=\"ω\")"
   ]
  },
  {
   "cell_type": "markdown",
   "id": "71111188",
   "metadata": {},
   "source": [
    "On the left, the optimized adjacency matrix is plotted as a heatmap.\n",
    "\n",
    "On the right, we show the sppring layout plot of the resulting weighted network. The edgeweights are repreented as the edge widths, and the node colors correspond to their intrinsic frequencies."
   ]
  }
 ],
 "metadata": {
  "kernelspec": {
   "display_name": "torch",
   "language": "python",
   "name": "python3"
  },
  "language_info": {
   "codemirror_mode": {
    "name": "ipython",
    "version": 3
   },
   "file_extension": ".py",
   "mimetype": "text/x-python",
   "name": "python",
   "nbconvert_exporter": "python",
   "pygments_lexer": "ipython3",
   "version": "3.11.8"
  }
 },
 "nbformat": 4,
 "nbformat_minor": 5
}
